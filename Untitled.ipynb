{
 "cells": [
  {
   "cell_type": "code",
   "execution_count": 1,
   "id": "b91e9440-d04c-44cc-8228-133ba81a731f",
   "metadata": {},
   "outputs": [],
   "source": [
    "from torch.utils.data import Dataset\n",
    "from PIL import Image\n",
    "import os"
   ]
  },
  {
   "cell_type": "code",
   "execution_count": 2,
   "id": "555ce7cc-4765-46b5-943b-a797a05d9d58",
   "metadata": {},
   "outputs": [],
   "source": [
    "class MyData(Dataset):\n",
    "\n",
    "    def __init__(self,root_dir,data_dir,label_dir):\n",
    "        self.root_dir = root_dir\n",
    "        self.label_dir = label_dir\n",
    "        self.data_dir = data_dir\n",
    "        self.data_path = os.path.join(self.root_dir, self.data_dir)\n",
    "        self.label_path = os.path.join(self.root_dir, self.label_dir)\n",
    "        self.imgs = os.listdir(self.data_path)\n",
    "        self.labels = os.listdir(self.label_path)\n",
    "\n",
    "    def __getitem__(self, idx):\n",
    "        img_name = self.imgs[idx]\n",
    "        label_name = self.labels[idx]\n",
    "        img_item_path = os.path.join(self.root_dir, self.data_dir, img_name)\n",
    "        label_item_path = os.path.join(self.root_dir, self.label_dir, label_name)\n",
    "        img = Image.open(img_item_path)\n",
    "        with open(label_item_path, 'r') as f:\n",
    "            label = f.read()\n",
    "        return img, label\n",
    "\n",
    "    def __len__(self):\n",
    "\n",
    "        return len(self.imgs), len(self.labels)"
   ]
  },
  {
   "cell_type": "code",
   "execution_count": 3,
   "id": "c559575e-6ed4-4b47-80a8-3b85e8fce917",
   "metadata": {},
   "outputs": [],
   "source": [
    "root_dir = '/home/zy/xiaotuidui/datasets/dataset_prac/train'\n",
    "ants_data_dir = 'ants_image'\n",
    "ants_label_dir = 'ants_label'\n",
    "bees_data_dir = 'bees_image'\n",
    "bees_label_dir = 'bees_label'\n",
    "\n",
    "ants_dataset = MyData(root_dir, ants_data_dir, ants_label_dir)\n",
    "bees_dataset = MyData(root_dir, bees_data_dir, bees_label_dir)"
   ]
  },
  {
   "cell_type": "code",
   "execution_count": 4,
   "id": "c31b0356-89c9-4ee9-bc32-9fe77624ba3b",
   "metadata": {},
   "outputs": [
    {
     "name": "stdout",
     "output_type": "stream",
     "text": [
      "ants\n"
     ]
    }
   ],
   "source": [
    "ants_img, ants_label = ants_dataset[1]\n",
    "ants_img.show()\n",
    "print(ants_label)"
   ]
  },
  {
   "cell_type": "code",
   "execution_count": 5,
   "id": "7572470b-a1c5-41ca-bf38-a079cc6b2782",
   "metadata": {},
   "outputs": [
    {
     "name": "stdout",
     "output_type": "stream",
     "text": [
      "bees\n"
     ]
    }
   ],
   "source": [
    "bees_img, bees_label = bees_dataset[0]\n",
    "bees_img.show()\n",
    "print(bees_label)"
   ]
  },
  {
   "cell_type": "code",
   "execution_count": null,
   "id": "2ad9e999-0633-40eb-ab24-61eb38445df8",
   "metadata": {},
   "outputs": [],
   "source": []
  },
  {
   "cell_type": "code",
   "execution_count": 6,
   "id": "862c5f92-6be4-43ac-a566-26853b0878d4",
   "metadata": {},
   "outputs": [
    {
     "ename": "TypeError",
     "evalue": "'tuple' object cannot be interpreted as an integer",
     "output_type": "error",
     "traceback": [
      "\u001b[0;31m---------------------------------------------------------------------------\u001b[0m",
      "\u001b[0;31mTypeError\u001b[0m                                 Traceback (most recent call last)",
      "Cell \u001b[0;32mIn[6], line 1\u001b[0m\n\u001b[0;32m----> 1\u001b[0m train_datasets \u001b[38;5;241m=\u001b[39m \u001b[43mants_dataset\u001b[49m\u001b[43m \u001b[49m\u001b[38;5;241;43m+\u001b[39;49m\u001b[43m \u001b[49m\u001b[43mbees_dataset\u001b[49m\n",
      "File \u001b[0;32m~/anaconda3/envs/torch/lib/python3.8/site-packages/torch/utils/data/dataset.py:68\u001b[0m, in \u001b[0;36mDataset.__add__\u001b[0;34m(self, other)\u001b[0m\n\u001b[1;32m     67\u001b[0m \u001b[38;5;28;01mdef\u001b[39;00m \u001b[38;5;21m__add__\u001b[39m(\u001b[38;5;28mself\u001b[39m, other: \u001b[38;5;124m\"\u001b[39m\u001b[38;5;124mDataset[T_co]\u001b[39m\u001b[38;5;124m\"\u001b[39m) \u001b[38;5;241m-\u001b[39m\u001b[38;5;241m>\u001b[39m \u001b[38;5;124m\"\u001b[39m\u001b[38;5;124mConcatDataset[T_co]\u001b[39m\u001b[38;5;124m\"\u001b[39m:\n\u001b[0;32m---> 68\u001b[0m     \u001b[38;5;28;01mreturn\u001b[39;00m \u001b[43mConcatDataset\u001b[49m\u001b[43m(\u001b[49m\u001b[43m[\u001b[49m\u001b[38;5;28;43mself\u001b[39;49m\u001b[43m,\u001b[49m\u001b[43m \u001b[49m\u001b[43mother\u001b[49m\u001b[43m]\u001b[49m\u001b[43m)\u001b[49m\n",
      "File \u001b[0;32m~/anaconda3/envs/torch/lib/python3.8/site-packages/torch/utils/data/dataset.py:331\u001b[0m, in \u001b[0;36mConcatDataset.__init__\u001b[0;34m(self, datasets)\u001b[0m\n\u001b[1;32m    327\u001b[0m \u001b[38;5;28;01mfor\u001b[39;00m d \u001b[38;5;129;01min\u001b[39;00m \u001b[38;5;28mself\u001b[39m\u001b[38;5;241m.\u001b[39mdatasets:\n\u001b[1;32m    328\u001b[0m     \u001b[38;5;28;01massert\u001b[39;00m \u001b[38;5;129;01mnot\u001b[39;00m \u001b[38;5;28misinstance\u001b[39m(\n\u001b[1;32m    329\u001b[0m         d, IterableDataset\n\u001b[1;32m    330\u001b[0m     ), \u001b[38;5;124m\"\u001b[39m\u001b[38;5;124mConcatDataset does not support IterableDataset\u001b[39m\u001b[38;5;124m\"\u001b[39m\n\u001b[0;32m--> 331\u001b[0m \u001b[38;5;28mself\u001b[39m\u001b[38;5;241m.\u001b[39mcumulative_sizes \u001b[38;5;241m=\u001b[39m \u001b[38;5;28;43mself\u001b[39;49m\u001b[38;5;241;43m.\u001b[39;49m\u001b[43mcumsum\u001b[49m\u001b[43m(\u001b[49m\u001b[38;5;28;43mself\u001b[39;49m\u001b[38;5;241;43m.\u001b[39;49m\u001b[43mdatasets\u001b[49m\u001b[43m)\u001b[49m\n",
      "File \u001b[0;32m~/anaconda3/envs/torch/lib/python3.8/site-packages/torch/utils/data/dataset.py:318\u001b[0m, in \u001b[0;36mConcatDataset.cumsum\u001b[0;34m(sequence)\u001b[0m\n\u001b[1;32m    316\u001b[0m r, s \u001b[38;5;241m=\u001b[39m [], \u001b[38;5;241m0\u001b[39m\n\u001b[1;32m    317\u001b[0m \u001b[38;5;28;01mfor\u001b[39;00m e \u001b[38;5;129;01min\u001b[39;00m sequence:\n\u001b[0;32m--> 318\u001b[0m     l \u001b[38;5;241m=\u001b[39m \u001b[38;5;28;43mlen\u001b[39;49m\u001b[43m(\u001b[49m\u001b[43me\u001b[49m\u001b[43m)\u001b[49m\n\u001b[1;32m    319\u001b[0m     r\u001b[38;5;241m.\u001b[39mappend(l \u001b[38;5;241m+\u001b[39m s)\n\u001b[1;32m    320\u001b[0m     s \u001b[38;5;241m+\u001b[39m\u001b[38;5;241m=\u001b[39m l\n",
      "\u001b[0;31mTypeError\u001b[0m: 'tuple' object cannot be interpreted as an integer"
     ]
    }
   ],
   "source": [
    "train_datasets = ants_dataset + bees_dataset"
   ]
  },
  {
   "cell_type": "code",
   "execution_count": null,
   "id": "1f802d59-0314-4bc5-9076-bd7c2c3679c7",
   "metadata": {},
   "outputs": [],
   "source": []
  },
  {
   "cell_type": "code",
   "execution_count": null,
   "id": "e5268d34-e392-48f1-a82e-9db33f3d88a4",
   "metadata": {},
   "outputs": [],
   "source": []
  },
  {
   "cell_type": "code",
   "execution_count": null,
   "id": "fe16bdb1-85ef-4bf7-b676-5fe34e67d14a",
   "metadata": {},
   "outputs": [],
   "source": []
  },
  {
   "cell_type": "code",
   "execution_count": null,
   "id": "8c7796b7-5e3c-4a85-acb5-f854052ad80f",
   "metadata": {},
   "outputs": [],
   "source": []
  },
  {
   "cell_type": "code",
   "execution_count": null,
   "id": "9542ae6d-05c2-47bf-a357-49817302fe10",
   "metadata": {},
   "outputs": [],
   "source": []
  },
  {
   "cell_type": "code",
   "execution_count": null,
   "id": "d0562e21-2476-432b-91cd-0c10e13a51e9",
   "metadata": {},
   "outputs": [],
   "source": []
  },
  {
   "cell_type": "code",
   "execution_count": null,
   "id": "a15df9dd-75bb-4a53-ad0e-d6643f66dc45",
   "metadata": {},
   "outputs": [],
   "source": []
  },
  {
   "cell_type": "code",
   "execution_count": null,
   "id": "371bbf7c-5fef-448d-b36f-45fbdd531805",
   "metadata": {},
   "outputs": [],
   "source": []
  },
  {
   "cell_type": "code",
   "execution_count": null,
   "id": "1d96027a-7a85-4745-b496-691befebc4a8",
   "metadata": {},
   "outputs": [],
   "source": []
  },
  {
   "cell_type": "code",
   "execution_count": null,
   "id": "790486a2-2137-4783-a9ee-cfe0db90eda2",
   "metadata": {},
   "outputs": [],
   "source": []
  },
  {
   "cell_type": "code",
   "execution_count": null,
   "id": "9e89fa9f-a266-4f54-b004-a46600e1811f",
   "metadata": {},
   "outputs": [],
   "source": []
  },
  {
   "cell_type": "code",
   "execution_count": null,
   "id": "ce7c97d3-891f-4daf-a7fe-eb4205e0fa7a",
   "metadata": {},
   "outputs": [],
   "source": []
  },
  {
   "cell_type": "code",
   "execution_count": null,
   "id": "979b56f8-4c1e-4e5b-ab96-6c7816365f06",
   "metadata": {},
   "outputs": [],
   "source": []
  },
  {
   "cell_type": "code",
   "execution_count": null,
   "id": "21b7c2e7-5a65-4d86-9e3e-8452ebdee07f",
   "metadata": {},
   "outputs": [],
   "source": []
  },
  {
   "cell_type": "code",
   "execution_count": null,
   "id": "f7075039-56ae-4d31-84c0-6f4e236f2919",
   "metadata": {},
   "outputs": [],
   "source": []
  },
  {
   "cell_type": "code",
   "execution_count": null,
   "id": "444b3999-893b-478b-80ad-ed2490958c0b",
   "metadata": {},
   "outputs": [],
   "source": []
  },
  {
   "cell_type": "code",
   "execution_count": null,
   "id": "9a212ce3-67c2-4bda-bb0e-0504e404954b",
   "metadata": {},
   "outputs": [],
   "source": []
  },
  {
   "cell_type": "code",
   "execution_count": null,
   "id": "987e67b3-2b93-4fc9-863e-1f4530741e6c",
   "metadata": {},
   "outputs": [],
   "source": []
  },
  {
   "cell_type": "code",
   "execution_count": null,
   "id": "b892dd97-255a-4579-9337-0e6b0d88ad10",
   "metadata": {},
   "outputs": [],
   "source": []
  },
  {
   "cell_type": "code",
   "execution_count": null,
   "id": "8d251717-b9e5-4d16-8c1e-de72f2be0a41",
   "metadata": {},
   "outputs": [],
   "source": []
  }
 ],
 "metadata": {
  "kernelspec": {
   "display_name": "Python 3 (ipykernel)",
   "language": "python",
   "name": "python3"
  },
  "language_info": {
   "codemirror_mode": {
    "name": "ipython",
    "version": 3
   },
   "file_extension": ".py",
   "mimetype": "text/x-python",
   "name": "python",
   "nbconvert_exporter": "python",
   "pygments_lexer": "ipython3",
   "version": "3.8.19"
  }
 },
 "nbformat": 4,
 "nbformat_minor": 5
}
